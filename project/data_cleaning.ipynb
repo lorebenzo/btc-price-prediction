{
 "cells": [
  {
   "cell_type": "code",
   "execution_count": 370,
   "metadata": {},
   "outputs": [],
   "source": [
    "import pandas as pd\n",
    "import numpy as np\n",
    "\n",
    "# Read in the data\n",
    "df_coinmetrics = pd.read_csv('data_raw/coinmetrics.csv', low_memory=False)\n",
    "df_coinmarketcap = pd.read_csv('data_raw/coinmarketcap.csv', low_memory=False)"
   ]
  },
  {
   "cell_type": "code",
   "execution_count": 371,
   "metadata": {},
   "outputs": [
    {
     "data": {
      "text/plain": [
       "0       2022-03-01\n",
       "1       2022-02-28\n",
       "2       2022-02-27\n",
       "3       2022-02-26\n",
       "4       2022-02-25\n",
       "           ...    \n",
       "2646    2014-12-02\n",
       "2647    2014-12-01\n",
       "2648    2014-11-30\n",
       "2649    2014-11-29\n",
       "2650    2014-11-28\n",
       "Name: date, Length: 2651, dtype: object"
      ]
     },
     "execution_count": 371,
     "metadata": {},
     "output_type": "execute_result"
    }
   ],
   "source": [
    "# Standardize the date format\n",
    "df_coinmarketcap['date'] = df_coinmarketcap['date'].apply(lambda x: x.split()[0])\n",
    "df_coinmarketcap['date']"
   ]
  },
  {
   "cell_type": "code",
   "execution_count": 372,
   "metadata": {},
   "outputs": [],
   "source": [
    "# Time-frame\n",
    "start_date = '2015-01-01'\n",
    "end_date = '2022-03-01'\n",
    "\n",
    "# Filter data\n",
    "df_coinmetrics = df_coinmetrics[(df_coinmetrics['time'] >= start_date) & (df_coinmetrics['time'] <= end_date)]\n",
    "df_coinmarketcap = df_coinmarketcap[(df_coinmarketcap['date'] >= start_date) & (df_coinmarketcap['date'] <= end_date)]\n",
    "\n",
    "# Sort by date\n",
    "df_coinmetrics = df_coinmetrics.sort_values(by=['time'])\n",
    "df_coinmarketcap = df_coinmarketcap.sort_values(by=['date'])"
   ]
  },
  {
   "cell_type": "code",
   "execution_count": 373,
   "metadata": {},
   "outputs": [],
   "source": [
    "df_coinmetrics = df_coinmetrics.reset_index(drop=True)\n",
    "df_coinmarketcap = df_coinmarketcap.reset_index(drop=True)"
   ]
  },
  {
   "cell_type": "code",
   "execution_count": 374,
   "metadata": {},
   "outputs": [],
   "source": [
    "def get_log_returns(now, past):\n",
    "    return np.log(now) - np.log(past)\n",
    "\n",
    "def get_parkinson_volatility(high, low):\n",
    "    return (np.log(high) - np.log(low)) / (2. * np.sqrt(np.log(2)))\n",
    "\n",
    "def get_relative_price_change(high, low):\n",
    "    return 2. * (high - low) / (high + low)"
   ]
  },
  {
   "cell_type": "code",
   "execution_count": 375,
   "metadata": {},
   "outputs": [],
   "source": [
    "# Calculate log returns at lag 1-7\n",
    "log_ret = [get_log_returns(df_coinmarketcap['close'], df_coinmarketcap['close'].shift(i)) for i in range(1, 8)]"
   ]
  },
  {
   "cell_type": "code",
   "execution_count": 376,
   "metadata": {},
   "outputs": [],
   "source": [
    "volume_usd = df_coinmarketcap['Volume USD']"
   ]
  },
  {
   "cell_type": "code",
   "execution_count": 377,
   "metadata": {},
   "outputs": [],
   "source": [
    "capitalization = df_coinmetrics['CapRealUSD']"
   ]
  },
  {
   "cell_type": "code",
   "execution_count": 378,
   "metadata": {},
   "outputs": [],
   "source": [
    "relative_price_change = get_relative_price_change(df_coinmarketcap['high'], df_coinmarketcap['low'])"
   ]
  },
  {
   "cell_type": "code",
   "execution_count": 379,
   "metadata": {},
   "outputs": [],
   "source": [
    "parkinson_volatility = [ get_parkinson_volatility(df_coinmarketcap['high'].shift(i), df_coinmarketcap['low'].shift(i)) for i in range(1, 8)]"
   ]
  },
  {
   "cell_type": "code",
   "execution_count": 380,
   "metadata": {},
   "outputs": [
    {
     "data": {
      "text/html": [
       "<div>\n",
       "<style scoped>\n",
       "    .dataframe tbody tr th:only-of-type {\n",
       "        vertical-align: middle;\n",
       "    }\n",
       "\n",
       "    .dataframe tbody tr th {\n",
       "        vertical-align: top;\n",
       "    }\n",
       "\n",
       "    .dataframe thead th {\n",
       "        text-align: right;\n",
       "    }\n",
       "</style>\n",
       "<table border=\"1\" class=\"dataframe\">\n",
       "  <thead>\n",
       "    <tr style=\"text-align: right;\">\n",
       "      <th></th>\n",
       "      <th>0</th>\n",
       "      <th>1</th>\n",
       "      <th>2</th>\n",
       "      <th>3</th>\n",
       "      <th>4</th>\n",
       "      <th>5</th>\n",
       "      <th>6</th>\n",
       "    </tr>\n",
       "  </thead>\n",
       "  <tbody>\n",
       "    <tr>\n",
       "      <th>0</th>\n",
       "      <td>NaN</td>\n",
       "      <td>NaN</td>\n",
       "      <td>NaN</td>\n",
       "      <td>NaN</td>\n",
       "      <td>NaN</td>\n",
       "      <td>NaN</td>\n",
       "      <td>NaN</td>\n",
       "    </tr>\n",
       "    <tr>\n",
       "      <th>1</th>\n",
       "      <td>0.015925</td>\n",
       "      <td>NaN</td>\n",
       "      <td>NaN</td>\n",
       "      <td>NaN</td>\n",
       "      <td>NaN</td>\n",
       "      <td>NaN</td>\n",
       "      <td>NaN</td>\n",
       "    </tr>\n",
       "    <tr>\n",
       "      <th>2</th>\n",
       "      <td>0.009644</td>\n",
       "      <td>0.015925</td>\n",
       "      <td>NaN</td>\n",
       "      <td>NaN</td>\n",
       "      <td>NaN</td>\n",
       "      <td>NaN</td>\n",
       "      <td>NaN</td>\n",
       "    </tr>\n",
       "    <tr>\n",
       "      <th>3</th>\n",
       "      <td>0.063111</td>\n",
       "      <td>0.009644</td>\n",
       "      <td>0.015925</td>\n",
       "      <td>NaN</td>\n",
       "      <td>NaN</td>\n",
       "      <td>NaN</td>\n",
       "      <td>NaN</td>\n",
       "    </tr>\n",
       "    <tr>\n",
       "      <th>4</th>\n",
       "      <td>0.076849</td>\n",
       "      <td>0.063111</td>\n",
       "      <td>0.009644</td>\n",
       "      <td>0.015925</td>\n",
       "      <td>NaN</td>\n",
       "      <td>NaN</td>\n",
       "      <td>NaN</td>\n",
       "    </tr>\n",
       "    <tr>\n",
       "      <th>...</th>\n",
       "      <td>...</td>\n",
       "      <td>...</td>\n",
       "      <td>...</td>\n",
       "      <td>...</td>\n",
       "      <td>...</td>\n",
       "      <td>...</td>\n",
       "      <td>...</td>\n",
       "    </tr>\n",
       "    <tr>\n",
       "      <th>2612</th>\n",
       "      <td>0.087687</td>\n",
       "      <td>0.035292</td>\n",
       "      <td>0.033633</td>\n",
       "      <td>0.042257</td>\n",
       "      <td>0.033485</td>\n",
       "      <td>0.013266</td>\n",
       "      <td>0.023090</td>\n",
       "    </tr>\n",
       "    <tr>\n",
       "      <th>2613</th>\n",
       "      <td>0.026270</td>\n",
       "      <td>0.087687</td>\n",
       "      <td>0.035292</td>\n",
       "      <td>0.033633</td>\n",
       "      <td>0.042257</td>\n",
       "      <td>0.033485</td>\n",
       "      <td>0.013266</td>\n",
       "    </tr>\n",
       "    <tr>\n",
       "      <th>2614</th>\n",
       "      <td>0.026345</td>\n",
       "      <td>0.026270</td>\n",
       "      <td>0.087687</td>\n",
       "      <td>0.035292</td>\n",
       "      <td>0.033633</td>\n",
       "      <td>0.042257</td>\n",
       "      <td>0.033485</td>\n",
       "    </tr>\n",
       "    <tr>\n",
       "      <th>2615</th>\n",
       "      <td>0.044865</td>\n",
       "      <td>0.026345</td>\n",
       "      <td>0.026270</td>\n",
       "      <td>0.087687</td>\n",
       "      <td>0.035292</td>\n",
       "      <td>0.033633</td>\n",
       "      <td>0.042257</td>\n",
       "    </tr>\n",
       "    <tr>\n",
       "      <th>2616</th>\n",
       "      <td>0.099981</td>\n",
       "      <td>0.044865</td>\n",
       "      <td>0.026345</td>\n",
       "      <td>0.026270</td>\n",
       "      <td>0.087687</td>\n",
       "      <td>0.035292</td>\n",
       "      <td>0.033633</td>\n",
       "    </tr>\n",
       "  </tbody>\n",
       "</table>\n",
       "<p>2617 rows × 7 columns</p>\n",
       "</div>"
      ],
      "text/plain": [
       "             0         1         2         3         4         5         6\n",
       "0          NaN       NaN       NaN       NaN       NaN       NaN       NaN\n",
       "1     0.015925       NaN       NaN       NaN       NaN       NaN       NaN\n",
       "2     0.009644  0.015925       NaN       NaN       NaN       NaN       NaN\n",
       "3     0.063111  0.009644  0.015925       NaN       NaN       NaN       NaN\n",
       "4     0.076849  0.063111  0.009644  0.015925       NaN       NaN       NaN\n",
       "...        ...       ...       ...       ...       ...       ...       ...\n",
       "2612  0.087687  0.035292  0.033633  0.042257  0.033485  0.013266  0.023090\n",
       "2613  0.026270  0.087687  0.035292  0.033633  0.042257  0.033485  0.013266\n",
       "2614  0.026345  0.026270  0.087687  0.035292  0.033633  0.042257  0.033485\n",
       "2615  0.044865  0.026345  0.026270  0.087687  0.035292  0.033633  0.042257\n",
       "2616  0.099981  0.044865  0.026345  0.026270  0.087687  0.035292  0.033633\n",
       "\n",
       "[2617 rows x 7 columns]"
      ]
     },
     "execution_count": 380,
     "metadata": {},
     "output_type": "execute_result"
    }
   ],
   "source": [
    "pd.DataFrame(parkinson_volatility).T"
   ]
  },
  {
   "cell_type": "code",
   "execution_count": 381,
   "metadata": {},
   "outputs": [
    {
     "data": {
      "text/plain": [
       "0         6.162407\n",
       "1         3.819748\n",
       "2         1.316124\n",
       "3         2.635763\n",
       "4         5.997284\n",
       "           ...    \n",
       "2612    103.537914\n",
       "2613     95.898936\n",
       "2614     91.549519\n",
       "2615    125.905956\n",
       "2616    120.711201\n",
       "Name: TxTfrValMedUSD, Length: 2617, dtype: float64"
      ]
     },
     "execution_count": 381,
     "metadata": {},
     "output_type": "execute_result"
    }
   ],
   "source": [
    "median_value = df_coinmetrics['TxTfrValMedUSD']\n",
    "median_value"
   ]
  },
  {
   "cell_type": "code",
   "execution_count": 382,
   "metadata": {},
   "outputs": [
    {
     "data": {
      "text/plain": [
       "0        60177.0\n",
       "1        83050.0\n",
       "2        81404.0\n",
       "3        82769.0\n",
       "4        95721.0\n",
       "          ...   \n",
       "2612    260990.0\n",
       "2613    221994.0\n",
       "2614    206112.0\n",
       "2615    274389.0\n",
       "2616    275460.0\n",
       "Name: TxCnt, Length: 2617, dtype: float64"
      ]
     },
     "execution_count": 382,
     "metadata": {},
     "output_type": "execute_result"
    }
   ],
   "source": [
    "tx_count = df_coinmetrics['TxCnt']\n",
    "tx_count"
   ]
  },
  {
   "cell_type": "code",
   "execution_count": 383,
   "metadata": {},
   "outputs": [
    {
     "data": {
      "text/plain": [
       "0       4125.00\n",
       "1       4125.00\n",
       "2       4050.00\n",
       "3       4300.00\n",
       "4       3900.00\n",
       "         ...   \n",
       "2612     837.50\n",
       "2613     781.25\n",
       "2614     850.00\n",
       "2615     962.50\n",
       "2616    1012.50\n",
       "Name: IssContNtv, Length: 2617, dtype: float64"
      ]
     },
     "execution_count": 383,
     "metadata": {},
     "output_type": "execute_result"
    }
   ],
   "source": [
    "new_coins = df_coinmetrics['IssContNtv']\n",
    "new_coins"
   ]
  },
  {
   "cell_type": "code",
   "execution_count": 384,
   "metadata": {},
   "outputs": [
    {
     "data": {
      "text/plain": [
       "0         2580.250970\n",
       "1         3898.661859\n",
       "2         3338.335795\n",
       "3         5680.989855\n",
       "4         4399.997048\n",
       "            ...      \n",
       "2612    449039.427813\n",
       "2613    263340.238548\n",
       "2614    258431.510922\n",
       "2615    413568.390589\n",
       "2616    903615.185691\n",
       "Name: FeeTotUSD, Length: 2617, dtype: float64"
      ]
     },
     "execution_count": 384,
     "metadata": {},
     "output_type": "execute_result"
    }
   ],
   "source": [
    "total_fees = df_coinmetrics['FeeTotUSD']\n",
    "total_fees"
   ]
  },
  {
   "cell_type": "code",
   "execution_count": 385,
   "metadata": {},
   "outputs": [
    {
     "data": {
      "text/plain": [
       "0       0.031478\n",
       "1       0.031594\n",
       "2       0.028565\n",
       "3       0.026333\n",
       "4       0.027500\n",
       "          ...   \n",
       "2612    0.385373\n",
       "2613    0.288238\n",
       "2614    0.250847\n",
       "2615    0.309595\n",
       "2616    0.705805\n",
       "Name: FeeMedUSD, Length: 2617, dtype: float64"
      ]
     },
     "execution_count": 385,
     "metadata": {},
     "output_type": "execute_result"
    }
   ],
   "source": [
    "median_fees = df_coinmetrics['FeeMedUSD']\n",
    "median_fees"
   ]
  },
  {
   "cell_type": "code",
   "execution_count": 386,
   "metadata": {},
   "outputs": [
    {
     "data": {
      "text/plain": [
       "0        145765.0\n",
       "1        212932.0\n",
       "2        241755.0\n",
       "3        235011.0\n",
       "4        242515.0\n",
       "          ...    \n",
       "2612     936543.0\n",
       "2613     818914.0\n",
       "2614     768705.0\n",
       "2615     981066.0\n",
       "2616    1065354.0\n",
       "Name: AdrActCnt, Length: 2617, dtype: float64"
      ]
     },
     "execution_count": 386,
     "metadata": {},
     "output_type": "execute_result"
    }
   ],
   "source": [
    "active_addresses = df_coinmetrics['AdrActCnt']\n",
    "active_addresses"
   ]
  },
  {
   "cell_type": "code",
   "execution_count": 387,
   "metadata": {},
   "outputs": [
    {
     "data": {
      "text/plain": [
       "0       4.064096e+10\n",
       "1       4.064096e+10\n",
       "2       4.064096e+10\n",
       "3       4.064096e+10\n",
       "4       4.064096e+10\n",
       "            ...     \n",
       "2612    2.796715e+13\n",
       "2613    2.796715e+13\n",
       "2614    2.796715e+13\n",
       "2615    2.796715e+13\n",
       "2616    2.796715e+13\n",
       "Name: DiffMean, Length: 2617, dtype: float64"
      ]
     },
     "execution_count": 387,
     "metadata": {},
     "output_type": "execute_result"
    }
   ],
   "source": [
    "average_difficulty = df_coinmetrics['DiffMean']\n",
    "average_difficulty"
   ]
  },
  {
   "cell_type": "code",
   "execution_count": 388,
   "metadata": {},
   "outputs": [
    {
     "data": {
      "text/plain": [
       "0       165.0\n",
       "1       165.0\n",
       "2       162.0\n",
       "3       172.0\n",
       "4       156.0\n",
       "        ...  \n",
       "2612    134.0\n",
       "2613    125.0\n",
       "2614    136.0\n",
       "2615    154.0\n",
       "2616    162.0\n",
       "Name: BlkCnt, Length: 2617, dtype: float64"
      ]
     },
     "execution_count": 388,
     "metadata": {},
     "output_type": "execute_result"
    }
   ],
   "source": [
    "number_of_blocks = df_coinmetrics['BlkCnt']\n",
    "number_of_blocks"
   ]
  },
  {
   "cell_type": "code",
   "execution_count": 389,
   "metadata": {},
   "outputs": [
    {
     "data": {
      "text/plain": [
       "0       1.908026e+05\n",
       "1       2.759575e+05\n",
       "2       2.929958e+05\n",
       "3       2.746800e+05\n",
       "4       3.628934e+05\n",
       "            ...     \n",
       "2612    1.293916e+06\n",
       "2613    1.163692e+06\n",
       "2614    1.009490e+06\n",
       "2615    1.177785e+06\n",
       "2616    1.289157e+06\n",
       "Name: BlkSizeMeanByte, Length: 2617, dtype: float64"
      ]
     },
     "execution_count": 389,
     "metadata": {},
     "output_type": "execute_result"
    }
   ],
   "source": [
    "block_size = df_coinmetrics['BlkSizeMeanByte']\n",
    "block_size"
   ]
  },
  {
   "cell_type": "code",
   "execution_count": 390,
   "metadata": {},
   "outputs": [
    {
     "data": {
      "text/plain": [
       "0       152648.0\n",
       "1       241133.0\n",
       "2       266646.0\n",
       "3       244195.0\n",
       "4       264832.0\n",
       "          ...   \n",
       "2612    833323.0\n",
       "2613    709986.0\n",
       "2614    689832.0\n",
       "2615    843962.0\n",
       "2616    860896.0\n",
       "Name: TxTfrCnt, Length: 2617, dtype: float64"
      ]
     },
     "execution_count": 390,
     "metadata": {},
     "output_type": "execute_result"
    }
   ],
   "source": [
    "number_of_payements = df_coinmetrics['TxTfrCnt']\n",
    "number_of_payements"
   ]
  },
  {
   "cell_type": "code",
   "execution_count": 391,
   "metadata": {},
   "outputs": [
    {
     "data": {
      "text/plain": [
       "0       102135.882070\n",
       "1       149397.417177\n",
       "2       277500.536361\n",
       "3       226786.020740\n",
       "4       254454.056878\n",
       "            ...      \n",
       "2612    401712.990960\n",
       "2613    148529.765933\n",
       "2614    183812.226348\n",
       "2615    715974.414477\n",
       "2616    594429.025507\n",
       "Name: TxTfrValAdjNtv, Length: 2617, dtype: float64"
      ]
     },
     "execution_count": 391,
     "metadata": {},
     "output_type": "execute_result"
    }
   ],
   "source": [
    "on_chain_volume = df_coinmetrics['TxTfrValAdjNtv']\n",
    "on_chain_volume"
   ]
  },
  {
   "cell_type": "code",
   "execution_count": 392,
   "metadata": {},
   "outputs": [
    {
     "data": {
      "text/plain": [
       "0       3.214997e+07\n",
       "1       4.720103e+07\n",
       "2       7.926728e+07\n",
       "3       5.972060e+07\n",
       "4       6.997585e+07\n",
       "            ...     \n",
       "2612    1.579687e+10\n",
       "2613    5.801064e+09\n",
       "2614    6.923247e+09\n",
       "2615    3.091524e+10\n",
       "2616    2.635369e+10\n",
       "Name: TxTfrValAdjUSD, Length: 2617, dtype: float64"
      ]
     },
     "execution_count": 392,
     "metadata": {},
     "output_type": "execute_result"
    }
   ],
   "source": [
    "adjusted_on_chain_volume = df_coinmetrics['TxTfrValAdjUSD']\n",
    "adjusted_on_chain_volume"
   ]
  },
  {
   "cell_type": "code",
   "execution_count": 393,
   "metadata": {},
   "outputs": [],
   "source": [
    "# Create a new dataframe with 7 new features, that are the one-hot representation of the day of a week\n",
    "day = pd.to_datetime(df_coinmarketcap['date'])\n",
    "day = day.dt.day_name()\n",
    "day = pd.get_dummies(day)"
   ]
  },
  {
   "cell_type": "code",
   "execution_count": 394,
   "metadata": {},
   "outputs": [
    {
     "data": {
      "text/plain": [
       "0       4.380336e+09\n",
       "1       4.380329e+09\n",
       "2       4.370060e+09\n",
       "3       4.362259e+09\n",
       "4       4.354468e+09\n",
       "            ...     \n",
       "2612    4.570133e+11\n",
       "2613    4.568773e+11\n",
       "2614    4.566235e+11\n",
       "2615    4.586766e+11\n",
       "2616    4.593467e+11\n",
       "Name: CapRealUSD, Length: 2617, dtype: float64"
      ]
     },
     "execution_count": 394,
     "metadata": {},
     "output_type": "execute_result"
    }
   ],
   "source": [
    "capitalization"
   ]
  },
  {
   "cell_type": "code",
   "execution_count": 395,
   "metadata": {},
   "outputs": [],
   "source": [
    "# Merge the dataframes\n",
    "final_dataset = pd.concat([\n",
    "    pd.DataFrame(df_coinmarketcap['date']),\n",
    "    pd.DataFrame(log_ret).T, \n",
    "    pd.DataFrame(volume_usd),\n",
    "    pd.DataFrame(capitalization),\n",
    "    pd.DataFrame(relative_price_change),\n",
    "    pd.DataFrame(parkinson_volatility).T,\n",
    "    pd.DataFrame(median_value),\n",
    "    pd.DataFrame(tx_count),\n",
    "    pd.DataFrame(new_coins),\n",
    "    pd.DataFrame(total_fees),\n",
    "    pd.DataFrame(median_fees),\n",
    "    pd.DataFrame(active_addresses),\n",
    "    pd.DataFrame(average_difficulty),\n",
    "    pd.DataFrame(number_of_blocks),\n",
    "    pd.DataFrame(block_size),\n",
    "    pd.DataFrame(number_of_payements),\n",
    "    pd.DataFrame(on_chain_volume),\n",
    "    pd.DataFrame(adjusted_on_chain_volume),\n",
    "    day\n",
    "], axis=1).dropna(axis=0).sort_values(by='date').reset_index(drop=True)"
   ]
  },
  {
   "cell_type": "code",
   "execution_count": 396,
   "metadata": {},
   "outputs": [],
   "source": [
    "# Dump the dataset into csv format\n",
    "final_dataset.to_csv('clean_data/data_cleaned.csv', index=False)"
   ]
  }
 ],
 "metadata": {
  "kernelspec": {
   "display_name": "base",
   "language": "python",
   "name": "python3"
  },
  "language_info": {
   "codemirror_mode": {
    "name": "ipython",
    "version": 3
   },
   "file_extension": ".py",
   "mimetype": "text/x-python",
   "name": "python",
   "nbconvert_exporter": "python",
   "pygments_lexer": "ipython3",
   "version": "3.10.9"
  },
  "orig_nbformat": 4
 },
 "nbformat": 4,
 "nbformat_minor": 2
}
